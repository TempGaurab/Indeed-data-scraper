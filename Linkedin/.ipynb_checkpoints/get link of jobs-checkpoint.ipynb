{
 "cells": [
  {
   "cell_type": "code",
   "execution_count": 1,
   "id": "42a9c9e2",
   "metadata": {},
   "outputs": [],
   "source": [
    "import os\n",
    "import glob\n",
    "import pandas as pd\n",
    "import numpy as np\n",
    "from bs4 import BeautifulSoup"
   ]
  },
  {
   "cell_type": "code",
   "execution_count": 2,
   "id": "806f3cff",
   "metadata": {},
   "outputs": [],
   "source": [
    "def getjob_ids(filename):\n",
    "    with open(filename, \"r\") as file:\n",
    "        content = file.read()\n",
    "    job_ids = []\n",
    "    soup = BeautifulSoup(content, 'html.parser')\n",
    "    job_listing = soup.findAll('li', class_='ember-view')\n",
    "    for job in job_listing:\n",
    "        job_id = job.get('data-occludable-job-id')\n",
    "        if job_id:\n",
    "            job_ids.append(job_id)\n",
    "    return job_ids"
   ]
  },
  {
   "cell_type": "code",
   "execution_count": 8,
   "id": "2b978c43",
   "metadata": {},
   "outputs": [
    {
     "data": {
      "text/plain": [
       "['3982088754',\n",
       " '3959668039',\n",
       " '3970475523',\n",
       " '3980334547',\n",
       " '3985156427',\n",
       " '3982384918',\n",
       " '3972063419',\n",
       " '3977049228',\n",
       " '3971396423',\n",
       " '3982042389',\n",
       " '3967752731',\n",
       " '3975068642',\n",
       " '3975034783',\n",
       " '3968322070',\n",
       " '3967749781',\n",
       " '3968898422',\n",
       " '3982581593',\n",
       " '3983543544',\n",
       " '3980355971',\n",
       " '3975027106',\n",
       " '3978167054',\n",
       " '3968517805',\n",
       " '3970434874',\n",
       " '3968885164',\n",
       " '3978073151']"
      ]
     },
     "execution_count": 8,
     "metadata": {},
     "output_type": "execute_result"
    }
   ],
   "source": [
    "job_ids = getjob_ids(\"newtemp.txt\")\n",
    "job_ids"
   ]
  },
  {
   "cell_type": "code",
   "execution_count": 16,
   "id": "64e3610b",
   "metadata": {},
   "outputs": [],
   "source": [
    "def create_job_links(job_ids):\n",
    "    base_url = \"https://www.linkedin.com/jobs/search/?currentJobId=\"  # Replace with the actual base URL\n",
    "    rest = \"&geoId=103644278&keywords=artificial%20intelligence\"\n",
    "    job_links = [f\"{base_url}{job_id}{rest}\" for job_id in job_ids]\n",
    "    return job_links"
   ]
  },
  {
   "cell_type": "code",
   "execution_count": 17,
   "id": "ac937076",
   "metadata": {},
   "outputs": [
    {
     "name": "stdout",
     "output_type": "stream",
     "text": [
      "https://www.linkedin.com/jobs/search/?currentJobId=3982088754&geoId=103644278&keywords=artificial%20intelligence\n",
      "https://www.linkedin.com/jobs/search/?currentJobId=3959668039&geoId=103644278&keywords=artificial%20intelligence\n",
      "https://www.linkedin.com/jobs/search/?currentJobId=3970475523&geoId=103644278&keywords=artificial%20intelligence\n",
      "https://www.linkedin.com/jobs/search/?currentJobId=3980334547&geoId=103644278&keywords=artificial%20intelligence\n",
      "https://www.linkedin.com/jobs/search/?currentJobId=3985156427&geoId=103644278&keywords=artificial%20intelligence\n",
      "https://www.linkedin.com/jobs/search/?currentJobId=3982384918&geoId=103644278&keywords=artificial%20intelligence\n",
      "https://www.linkedin.com/jobs/search/?currentJobId=3972063419&geoId=103644278&keywords=artificial%20intelligence\n",
      "https://www.linkedin.com/jobs/search/?currentJobId=3977049228&geoId=103644278&keywords=artificial%20intelligence\n",
      "https://www.linkedin.com/jobs/search/?currentJobId=3971396423&geoId=103644278&keywords=artificial%20intelligence\n",
      "https://www.linkedin.com/jobs/search/?currentJobId=3982042389&geoId=103644278&keywords=artificial%20intelligence\n",
      "https://www.linkedin.com/jobs/search/?currentJobId=3967752731&geoId=103644278&keywords=artificial%20intelligence\n",
      "https://www.linkedin.com/jobs/search/?currentJobId=3975068642&geoId=103644278&keywords=artificial%20intelligence\n",
      "https://www.linkedin.com/jobs/search/?currentJobId=3975034783&geoId=103644278&keywords=artificial%20intelligence\n",
      "https://www.linkedin.com/jobs/search/?currentJobId=3968322070&geoId=103644278&keywords=artificial%20intelligence\n",
      "https://www.linkedin.com/jobs/search/?currentJobId=3967749781&geoId=103644278&keywords=artificial%20intelligence\n",
      "https://www.linkedin.com/jobs/search/?currentJobId=3968898422&geoId=103644278&keywords=artificial%20intelligence\n",
      "https://www.linkedin.com/jobs/search/?currentJobId=3982581593&geoId=103644278&keywords=artificial%20intelligence\n",
      "https://www.linkedin.com/jobs/search/?currentJobId=3983543544&geoId=103644278&keywords=artificial%20intelligence\n",
      "https://www.linkedin.com/jobs/search/?currentJobId=3980355971&geoId=103644278&keywords=artificial%20intelligence\n",
      "https://www.linkedin.com/jobs/search/?currentJobId=3975027106&geoId=103644278&keywords=artificial%20intelligence\n",
      "https://www.linkedin.com/jobs/search/?currentJobId=3978167054&geoId=103644278&keywords=artificial%20intelligence\n",
      "https://www.linkedin.com/jobs/search/?currentJobId=3968517805&geoId=103644278&keywords=artificial%20intelligence\n",
      "https://www.linkedin.com/jobs/search/?currentJobId=3970434874&geoId=103644278&keywords=artificial%20intelligence\n",
      "https://www.linkedin.com/jobs/search/?currentJobId=3968885164&geoId=103644278&keywords=artificial%20intelligence\n",
      "https://www.linkedin.com/jobs/search/?currentJobId=3978073151&geoId=103644278&keywords=artificial%20intelligence\n"
     ]
    }
   ],
   "source": [
    "job_links = create_job_links(job_ids)\n",
    "for link in job_links:\n",
    "    print(link)"
   ]
  }
 ],
 "metadata": {
  "kernelspec": {
   "display_name": "Python 3 (ipykernel)",
   "language": "python",
   "name": "python3"
  },
  "language_info": {
   "codemirror_mode": {
    "name": "ipython",
    "version": 3
   },
   "file_extension": ".py",
   "mimetype": "text/x-python",
   "name": "python",
   "nbconvert_exporter": "python",
   "pygments_lexer": "ipython3",
   "version": "3.11.4"
  }
 },
 "nbformat": 4,
 "nbformat_minor": 5
}
